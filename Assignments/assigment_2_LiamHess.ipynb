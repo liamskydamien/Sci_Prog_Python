{
  "cells": [
    {
      "cell_type": "markdown",
      "source": [
        "<center>\n",
        "<h1>Scientific Programming with Python</h1>\n",
        "<h2>Liam Hess</h2>\n",
        "<h2>Bonn-Rhein-Sieg University of Applied Sciences</h2>\n",
        "<h3>Bonn, Germany</h3>\n",
        "<h2>Assignment 3</h2>\n",
        "</center>\n",
        "\n"
      ],
      "metadata": {
        "id": "1AtpTjtIE_UL"
      }
    },
    {
      "cell_type": "markdown",
      "metadata": {
        "id": "H31EgyqH5UjT"
      },
      "source": [
        "# The Nernst Equation\n",
        "\n",
        "Author: Liam Hess (lhess2s, 9043939)\n",
        "\n",
        "Date: April 28, 2023\n",
        "\n",
        "---\n",
        "\n",
        "Encoding of the Nernst equation[1] and to use of it to compute the ion’s equilibrium potential of different ions common in the human body."
      ]
    },
    {
      "cell_type": "markdown",
      "metadata": {
        "id": "sr1U2ahw5Uje"
      },
      "source": [
        "## Imports\n",
        " - Math\n",
        " - scipy constants"
      ]
    },
    {
      "cell_type": "code",
      "execution_count": 1,
      "metadata": {
        "id": "FYMNCn1s5Ujf"
      },
      "outputs": [],
      "source": [
        "\n",
        "import math\n",
        "from scipy import constants\n"
      ]
    },
    {
      "cell_type": "markdown",
      "metadata": {
        "id": "qPfIzcww5Ujg"
      },
      "source": [
        "## Nernst equation\n",
        "By knowing ion concentration inside and outside a cell, an ion’s equilibrium potential\n",
        "can be computed using the Nernst equation [2]:\n",
        "\n",
        "$$ E_{eq} = \\frac{R * T}{Z * F} * \\ln(\\frac{C_{o}}{C_{i}}) \\\\ $$"
      ]
    },
    {
      "cell_type": "markdown",
      "metadata": {
        "id": "I0xrBgpy5Ujh"
      },
      "source": [
        "- $ E_{eq} $ =  Membrane Potential / Equilibrium Potential\n",
        "- $ R $ = Gas constant [3][4] = 8.3144626 $\\frac {J}{K * mol} $\n",
        "- $ T $ = Temperature in K (Kelvin)\n",
        "- $ Z $ = Ion charge (e.g $Na^{+} = +1 $;$ Cl^{-} = -1$)\n",
        "- $ F $ = Faraday's constant [3][5] = 96485.332  $\\frac {J}{volt * mol}$\n",
        "- $ C_{o} $ = Ion concentration outside the cells\n",
        "- $ C_{i} $ = Ion concentration inside the cells"
      ]
    },
    {
      "cell_type": "code",
      "execution_count": 2,
      "metadata": {
        "id": "fsgGEHDl5Ujh"
      },
      "outputs": [],
      "source": [
        "def nernst(ci: float, co: float, t: float, z: int) -> float:\n",
        "\n",
        "    \"\"\"\n",
        "    This function calculates and returns an ion's equilibrium potential using the Nernst equation.\n",
        "\n",
        "    Args:   \n",
        "        ci      - Ion concentration inside the cell\n",
        "        co      - Ion concentration ouside the cell\n",
        "        t       - Temperature in Kelvin\n",
        "        z       - Ion charge\n",
        "\n",
        "    Returns: \n",
        "        equilibrium       - The calculated equilibriums potential in Volt.\n",
        "    \"\"\"\n",
        "\n",
        "    # Type checking\n",
        "\n",
        "    if not isinstance(ci, float):\n",
        "      return TypeError(\"Ion concentration (inside cell) is not type float\")\n",
        "\n",
        "    if not isinstance(co, float):\n",
        "      return TypeError(\"Ion concentration (outside cell) is not type float\")\n",
        "\n",
        "    if not isinstance(t, float):\n",
        "      return TypeError(\"Temperature is not type float\")\n",
        "\n",
        "    if not isinstance(z, (int)):\n",
        "      return TypeError(\"Ion charge is not type float or int\")\n",
        "\n",
        "    GAS_CONSTANT = constants.gas_constant   # Gas constant = 8.314426 (J / K*mol) [3][4]\n",
        "    FARADY_CONSTANT = constants.physical_constants['Faraday constant'][0] # Faraday's constant = 96485.332 (J / volt*mol) [3][5]\n",
        "\n",
        "    equilibrium = ((GAS_CONSTANT * t) / (z * FARADY_CONSTANT)) * math.log((co / ci))\n",
        "\n",
        "    return equilibrium"
      ]
    },
    {
      "cell_type": "markdown",
      "source": [
        "## Transformation Volt to millivolt\n",
        "\n",
        "> Eingerückter Textblock\n",
        "\n",
        "\n",
        "$$mV = V * 1000$$"
      ],
      "metadata": {
        "id": "TwvCpEoKn9Kc"
      }
    },
    {
      "cell_type": "code",
      "source": [
        "def convert_V_to_mV(value: float) -> float:\n",
        "\n",
        "    \"\"\"\n",
        "    This function converts a value given in Volt to millivolt.\n",
        "\n",
        "    Args:\n",
        "        value  - The value which should be converted to millivolt\n",
        "\n",
        "    Return:\n",
        "        output - The converted value in millivolt\n",
        "    \"\"\"\n",
        "\n",
        "    if not isinstance(value, float):\n",
        "      return TypeError(\"Input is not type float.\")\n",
        "\n",
        "    output = value * 1000. # multiply by factor 1000 (1 V = 1000 mV)\n",
        "    return output"
      ],
      "metadata": {
        "id": "UoSiKG4sJ8rU"
      },
      "execution_count": 3,
      "outputs": []
    },
    {
      "cell_type": "markdown",
      "source": [
        "## Convert Celsius to Kelvin\n",
        "Conversion of Celsius to Kelvin [6]\n",
        "$$ K = C + 273.15 $$\n"
      ],
      "metadata": {
        "id": "e0cCcTNMo1fg"
      }
    },
    {
      "cell_type": "code",
      "source": [
        "def conversion_celsius_to_kelvin (value: float) -> float:\n",
        "  \n",
        "    \"\"\"\n",
        "    This function converts a value given in Celsius to Kelvin.\n",
        "\n",
        "    Args:\n",
        "        value  - The value in Celsius which should be converted to Kelvin\n",
        "\n",
        "    Return:\n",
        "        output - The converted value in Kelvin\n",
        "    \"\"\"\n",
        "\n",
        "    if not isinstance(value, float):\n",
        "      return TypeError(\"Input is not type float.\")\n",
        "\n",
        "    output = value + 273.15 # formular [6]\n",
        "    return output"
      ],
      "metadata": {
        "id": "d7nuUQCEpc2c"
      },
      "execution_count": 4,
      "outputs": []
    },
    {
      "cell_type": "markdown",
      "source": [
        "## Function for Calculating the ion equlibrium for the task\n",
        "\n",
        "*   Convert the value given in Celsius to Kelvin\n",
        "*   Calculate the ions equlibrium in V\n",
        "*   Transform to mV\n",
        "*   Return significant result\n",
        "\n",
        "$$ E_{eq} = (\\frac{R * T}{Z * F} * \\ln(\\frac{C_{o}}{C_{i}})) * 1000 $$\n"
      ],
      "metadata": {
        "id": "ywtJ3r1Qrg3N"
      }
    },
    {
      "cell_type": "code",
      "source": [
        "def calculate_equilibrium(concentration_inside: float, concentration_outside: float, temperature: float, ion_charge: int, name_of_ion: str):\n",
        "    \"\"\"\n",
        "    This function calculates and returns an ion's equilibrium potential using the Nernst equation and transformations.\n",
        "\n",
        "    Args:   \n",
        "        concentration_inside          - Ion concentration inside the cell\n",
        "        concentration_outside         - Ion concentration ouside the cell\n",
        "        temperature                   - Temperature in Celsius\n",
        "        ion_charge                    - Ion charge\n",
        "        name_of_ion                   - Name of the ion\n",
        "    \"\"\"\n",
        "\n",
        "    if not isinstance(name_of_ion, str):\n",
        "      return TypeError(\"name_of_ion is not type string.\")\n",
        "\n",
        "    t_kelvin = conversion_celsius_to_kelvin(temperature) # convert temperature to Kelvin\n",
        "\n",
        "    Eq = nernst(co= concentration_outside, ci= concentration_inside, t= t_kelvin, z= ion_charge)  # put in values from K+ in function\n",
        "\n",
        "    eq = convert_V_to_mV(value=Eq) # convert values from Volt to millivolt\n",
        "\n",
        "    print(f'The equilibrium potential of {name_of_ion} is {eq:0.3} mV.') # round result to 3 significant figures, since the concentration limits all ions to 3 sig. figs. \n",
        "\n"
      ],
      "metadata": {
        "id": "ffP1vzHirgZs"
      },
      "execution_count": 5,
      "outputs": []
    },
    {
      "cell_type": "markdown",
      "metadata": {
        "id": "IbpBGYNx5Uji"
      },
      "source": [
        "## Task\n",
        "\n",
        "### Task\n",
        "Compute the equilibrium potential – reported in units of mV – for the four most common ions in the human body (i.e.,\n",
        "the physiological temperature is 310.15 K) using the following data:\n",
        "\n",
        "### Data\n",
        "| Ion       | Concentration outside the cell (mM) | Concentration inside the cell (mM) | Temperature (C) |\n",
        "|-----------|-------------------------------------|------------------------------------|-----------------|\n",
        "| $ K^{+} $ | 5.00 | 145.0 | 35. |\n",
        "| $ Cl^{-} $ | 150. | 10.0 | 20. |\n",
        "| $ Na^{+} $ | 145. | 15.0 | 25. |\n",
        "| $ Ca^{2+} $ | 2.00 | 1.00E-4 | 31.|\n",
        "\n",
        "Ion charge (e.g., Na+ = +1; Cl− = −1) for $ Ca^{2+} $ the Ion charge is 2. [7]\n",
        "\n"
      ]
    },
    {
      "cell_type": "markdown",
      "source": [
        "### Equlibrium potential of $ K^{+} $\n",
        "$$ Co = 5.00 mM $$\n",
        "$$ Ci = 145.0 mM $$\n",
        "$$ T  = 35. C $$\n",
        "$$ Z  = 1 $$"
      ],
      "metadata": {
        "id": "BspniBNOdhzw"
      }
    },
    {
      "cell_type": "code",
      "execution_count": 6,
      "metadata": {
        "id": "CN6EFGuG5Uji",
        "outputId": "25ea2906-25a4-4f74-8761-89b4ed2e8389",
        "colab": {
          "base_uri": "https://localhost:8080/"
        }
      },
      "outputs": [
        {
          "output_type": "stream",
          "name": "stdout",
          "text": [
            "The equilibrium potential of Kalium (K) is -89.4 mV.\n"
          ]
        }
      ],
      "source": [
        "calculate_equilibrium(concentration_inside= 145.00, \n",
        "                      concentration_outside= 5.00, \n",
        "                      temperature= 35., \n",
        "                      ion_charge= 1, \n",
        "                      name_of_ion= \"Kalium (K)\")"
      ]
    },
    {
      "cell_type": "markdown",
      "source": [
        "### Equlibrium potential of $ Cl^{-} $\n",
        "$$ Co = 150. mM $$\n",
        "$$ Ci = 10.0 mM $$\n",
        "$$ T  = 20. C $$\n",
        "$$ Z  = -1 $$"
      ],
      "metadata": {
        "id": "hp-re_0ueKqy"
      }
    },
    {
      "cell_type": "code",
      "source": [
        "calculate_equilibrium(concentration_inside= 10.0, \n",
        "                      concentration_outside= 150.0, \n",
        "                      temperature= 20., \n",
        "                      ion_charge= -1, \n",
        "                      name_of_ion= \"Chlorine (Cl)\")"
      ],
      "metadata": {
        "colab": {
          "base_uri": "https://localhost:8080/"
        },
        "id": "6EDlE784bGnq",
        "outputId": "6e66befb-42fa-49d4-f233-09802ae8f125"
      },
      "execution_count": 7,
      "outputs": [
        {
          "output_type": "stream",
          "name": "stdout",
          "text": [
            "The equilibrium potential of Chlorine (Cl) is -68.4 mV.\n"
          ]
        }
      ]
    },
    {
      "cell_type": "markdown",
      "source": [
        "### Equlibrium potential of $ Na^{+} $\n",
        "$$ Co = 145. mM$$\n",
        "$$ Ci = 15.0 mM $$\n",
        "$$ T  = 25. C $$\n",
        "$$ Z  = 1 $$"
      ],
      "metadata": {
        "id": "xFMDUYZseLpz"
      }
    },
    {
      "cell_type": "code",
      "source": [
        "calculate_equilibrium(concentration_inside= 15.0, \n",
        "                      concentration_outside= 145.00, \n",
        "                      temperature= 25., \n",
        "                      ion_charge= 1, \n",
        "                      name_of_ion= \"Natrium (Na)\")"
      ],
      "metadata": {
        "colab": {
          "base_uri": "https://localhost:8080/"
        },
        "id": "8ORdKrtPbGva",
        "outputId": "7b50b586-e8ba-4ce5-e565-384d9533e283"
      },
      "execution_count": 8,
      "outputs": [
        {
          "output_type": "stream",
          "name": "stdout",
          "text": [
            "The equilibrium potential of Natrium (Na) is 58.3 mV.\n"
          ]
        }
      ]
    },
    {
      "cell_type": "markdown",
      "source": [
        "### Equlibrium potential of $ Ca^{2+} $\n",
        "$$ Co = 2.00 mM $$\n",
        "$$ Ci = 1.00E-4 mM $$\n",
        "$$ T  = 31. C $$\n",
        "$$ Z  = 2 $$"
      ],
      "metadata": {
        "id": "LJb1y4rueMui"
      }
    },
    {
      "cell_type": "code",
      "source": [
        "calculate_equilibrium(concentration_inside= 0.000100, \n",
        "                      concentration_outside= 2.00, \n",
        "                      temperature= 31., \n",
        "                      ion_charge= 2, \n",
        "                      name_of_ion= \"Calcium (Ca)\")"
      ],
      "metadata": {
        "colab": {
          "base_uri": "https://localhost:8080/"
        },
        "id": "lUeRbKxrbG2w",
        "outputId": "178e1b20-70ae-4c60-a45b-10f036b88cd3"
      },
      "execution_count": 9,
      "outputs": [
        {
          "output_type": "stream",
          "name": "stdout",
          "text": [
            "The equilibrium potential of Calcium (Ca) is 1.3e+02 mV.\n"
          ]
        }
      ]
    },
    {
      "cell_type": "markdown",
      "metadata": {
        "id": "COR2efWF5Ujk"
      },
      "source": [
        "## References: \n",
        "\n",
        "[1] Archer, M. D. (1989). Genesis of the Nernst Equation. Chapter 8 in Electrochemistry, Past and Present, ACS Symposium\n",
        "Series, 390, 115-126. https://pubs.acs.org/doi/abs/10.1021/bk-1989-0390.ch008\n",
        "\n",
        "[2] Wright, S. H. (2004). Generation of resting membrane potential. Advances in Physiology Education, 28(1-4), 139–142.\n",
        "https://doi.org/10.1152/advan.00029.2004\n",
        "\n",
        "[3] The SciPy community's contributors, SciPy Constants https://docs.scipy.org/doc/scipy/reference/constants.html. Online; accessed on April 28, 2023\n",
        "\n",
        "[4] Wikipedia's contributors, Gas constant https://en.wikipedia.org/wiki/Gas_constant. Online; accessed on April 28, 2023.\n",
        "\n",
        "[5] Wikipedia's contributors, Faraday Constant https://en.wikipedia.org/wiki/Faraday_constant. Online; accessed on April 28, 2023.\n",
        "\n",
        "[6] Wikipedia's contributors, Kelvin https://en.wikipedia.org/wiki/Kelvin. Online; accessed April 28, 2023.\n",
        "\n",
        "[7] Smith, C. (2021). Calcium Ion Charge https://study.com/learn/lesson/calcium-ion-charge-formula-name.html. Online; accessed on April 28, 2023.\n"
      ]
    }
  ],
  "metadata": {
    "kernelspec": {
      "display_name": "Python 3",
      "language": "python",
      "name": "python3"
    },
    "language_info": {
      "codemirror_mode": {
        "name": "ipython",
        "version": 3
      },
      "file_extension": ".py",
      "mimetype": "text/x-python",
      "name": "python",
      "nbconvert_exporter": "python",
      "pygments_lexer": "ipython3",
      "version": "3.11.2"
    },
    "orig_nbformat": 4,
    "colab": {
      "provenance": [],
      "toc_visible": true
    }
  },
  "nbformat": 4,
  "nbformat_minor": 0
}
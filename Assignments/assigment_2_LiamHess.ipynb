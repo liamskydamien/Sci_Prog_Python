{
  "cells": [
    {
      "cell_type": "markdown",
      "source": [
        "<center>\n",
        "<h1>Scientific Programming with Python</h1>\n",
        "<h2>Liam Hess</h2>\n",
        "<h2>Bonn-Rhein-Sieg University of Applied Sciences</h2>\n",
        "<h3>Bonn, Germany</h3>\n",
        "<h2>Assignment 2</h2>\n",
        "</center>\n",
        "\n"
      ],
      "metadata": {
        "id": "1AtpTjtIE_UL"
      }
    },
    {
      "cell_type": "markdown",
      "metadata": {
        "id": "H31EgyqH5UjT"
      },
      "source": [
        "# The Nernst Equation\n",
        "\n",
        "Author: Liam Hess (lhess2s, 9043939)\n",
        "\n",
        "Date: April 28, 2023\n",
        "\n",
        "---\n",
        "\n",
        "Encoding of the Nernst equation[1] and to use it to compute an ion’s equilibrium potential."
      ]
    },
    {
      "cell_type": "markdown",
      "metadata": {
        "id": "sr1U2ahw5Uje"
      },
      "source": [
        "Imports for the task:\n",
        " - Math"
      ]
    },
    {
      "cell_type": "code",
      "execution_count": 1,
      "metadata": {
        "id": "FYMNCn1s5Ujf"
      },
      "outputs": [],
      "source": [
        "\"\"\" \n",
        "imports for the task\n",
        "\n",
        "\"\"\"\n",
        "import math"
      ]
    },
    {
      "cell_type": "markdown",
      "metadata": {
        "id": "qPfIzcww5Ujg"
      },
      "source": [
        "## Nernst equation\n",
        "By knowing ion concentration inside and outside a cell, an ion’s equilibrium potential\n",
        "can be computed using the Nernst equation [2]:\n",
        "\n",
        "$$ E_{eq} = \\frac{R * T}{Z * F} * \\ln(\\frac{C_{o}}{C_{i}})\\\\ $$"
      ]
    },
    {
      "cell_type": "markdown",
      "metadata": {
        "id": "I0xrBgpy5Ujh"
      },
      "source": [
        "- $ E_{eq} $ =  Membrane Potential / Equilibrium Potential\n",
        "- $ R $ = Gas constant [3] = 8.3144626 $\\frac {J}{K * mol} $\n",
        "- $ T $ = Temperature in K (Kelvin)\n",
        "- $ Z $ = Ion charge (e.g $Na^{+} = +1 $;$ Cl^{-} = -1$)\n",
        "- $ F $ = Faraday's constant [4] = 96485.332  $\\frac {J}{volt * mol}$\n",
        "- $ C_{o} $ = Ion concentration outside the cells\n",
        "- $ C_{i} $ = Ion concentration inside the cells"
      ]
    },
    {
      "cell_type": "code",
      "execution_count": 5,
      "metadata": {
        "id": "fsgGEHDl5Ujh"
      },
      "outputs": [],
      "source": [
        "def nernst(ci: float, co: float, t: float, z: float) -> float:\n",
        "\n",
        "    \"\"\"\n",
        "    This function calculates and returns an ion's equilibrium potential using the Nernst equation.\n",
        "\n",
        "    Args:   \n",
        "        ci      - Ion concentration inside the cell\n",
        "        co      - Ion concentration ouside the cell\n",
        "        t       - Temperature in Kelvin\n",
        "        z       - Ion charge\n",
        "\n",
        "    Returns: \n",
        "       e       - The calculated equilibriums potential in volt.\n",
        "    \"\"\"\n",
        "\n",
        "    GAS_CONSTANT = 8.3144626    # Gas constant = 8.314426 (J / K*mol) [2]\n",
        "    FARADY_CONSTANT = 96485.332 # Faraday's constant = 96485.332 (J / volt*mol) [3]\n",
        "\n",
        "    e = ((GAS_CONSTANT * t) / (z * FARADY_CONSTANT)) * math.log((co / ci))\n",
        "\n",
        "    return e"
      ]
    },
    {
      "cell_type": "markdown",
      "metadata": {
        "id": "IbpBGYNx5Uji"
      },
      "source": [
        "## Task\n",
        "\n",
        "### Task\n",
        "Compute the equilibrium potential – reported in units of mV – for the four most common ions in the human body (i.e.,\n",
        "the physiological temperature is 310.15 K) using the following data:\n",
        "\n",
        "### Data\n",
        "| Ion       | Concentration outside the cell (mM) | Concentration inside the cell (mM) | Temperature (K) | Ion charge\n",
        "|-----------|-------------------------------------|------------------------------------|-----------------|----|\n",
        "| $ K^{+} $ | 5.00 | 145.0 | 310.15 | 1. |\n",
        "| $ Cl^{-} $ | 150. | 10.0 | 20. | -1. |\n",
        "| $ Na^{+} $ | 145. | 15.0 | 25. | 1. |\n",
        "| $ Ca^{2+} $ | 2.00 | 1.00E-4 | 31.| 2. |\n",
        "\n",
        "Ion charge (e.g., Na+ = +1; Cl− = −1) for $ Ca^{2+} $ the Ion charge is 2.0 [5]\n",
        "\n"
      ]
    },
    {
      "cell_type": "code",
      "execution_count": 7,
      "metadata": {
        "id": "CN6EFGuG5Uji",
        "outputId": "7d265fd1-93b9-4da9-e10a-903d6f230374",
        "colab": {
          "base_uri": "https://localhost:8080/"
        }
      },
      "outputs": [
        {
          "output_type": "stream",
          "name": "stdout",
          "text": [
            "The Membrane/Equilibrium Potential is 89.99656769766173 mV.\n"
          ]
        }
      ],
      "source": [
        "\n",
        "values_dataset_K = (5.00, 145.0, 310.15, 1.)  # Values of first row of data.\n",
        "values_dataset_Cl = (150., 10.0, 20., -1.)     # Values of second row of data.\n",
        "values_dataset_Na = (145., 15.0, 25., 1.)      # Values of third row of data.\n",
        "values_dataset_Ca = (2.00, 0.000100, 31., 2.0) # Values of fourth row of data.\n",
        "\n",
        "datasets = (values_dataset_K, \n",
        "            values_dataset_Cl, \n",
        "            values_dataset_Na, \n",
        "            values_dataset_Ca) # put all datasets together for iteration.\n",
        "\n",
        "for set in datasets:\n",
        "    eq_V = nernst(set[0], set[1], set[2], set[3])\n",
        "    eq_mV = eq_V * 1000\n",
        "    \n",
        "\n",
        "\n",
        "#eq_result = nernst(ci_value,co_value,t_value,z_value) # Run the Nernst equation with the provided values.\n",
        "\n",
        "#Eq = eq_result * 1000 # Transform eq from V to mV -> 1 V = 1000mV\n",
        "\n",
        "Eq_1 = nernst(values_dataset_1[0],\n",
        "            values_dataset_1[1],\n",
        "            values_dataset_1[2],\n",
        "            values_dataset_1[3]) * 1000 # Transform eq from V to mV -> 1 V = 1000mV\n",
        "\n",
        "\n",
        "print(f'The Membrane/Equilibrium Potential of K is {Eq_1} mV.')\n",
        "\n"
      ]
    },
    {
      "cell_type": "markdown",
      "metadata": {
        "id": "COR2efWF5Ujk"
      },
      "source": [
        "## References: \n",
        "\n",
        "[1] Archer, M. D. (1989). Genesis of the Nernst Equation. Chapter 8 in Electrochemistry, Past and Present, ACS Symposium\n",
        "Series, 390, 115-126. https://pubs.acs.org/doi/abs/10.1021/bk-1989-0390.ch008\n",
        "\n",
        "[2] Wright, S. H. (2004). Generation of resting membrane potential. Advances in Physiology Education, 28(1-4), 139–142.\n",
        "https://doi.org/10.1152/advan.00029.2004\n",
        "\n",
        "[3] Wikipedia's contributors, Gas constant https://en.wikipedia.org/wiki/Gas_constant. Online; accessed on April 28, 2023.\n",
        "\n",
        "[4] Wikipedia's contributors, Faraday Constant https://en.wikipedia.org/wiki/Faraday_constant. Online; accessed on April 28, 2023.\n",
        "\n",
        "[5] Smith, C. (2021). Calcium Ion Charge https://study.com/learn/lesson/calcium-ion-charge-formula-name.html. Online; accessed on April 28, 2023."
      ]
    },
    {
      "cell_type": "code",
      "execution_count": null,
      "outputs": [],
      "source": [],
      "metadata": {
        "id": "HWgIJ0d_5Ujk"
      }
    }
  ],
  "metadata": {
    "kernelspec": {
      "display_name": "Python 3",
      "language": "python",
      "name": "python3"
    },
    "language_info": {
      "codemirror_mode": {
        "name": "ipython",
        "version": 3
      },
      "file_extension": ".py",
      "mimetype": "text/x-python",
      "name": "python",
      "nbconvert_exporter": "python",
      "pygments_lexer": "ipython3",
      "version": "3.11.2"
    },
    "orig_nbformat": 4,
    "colab": {
      "provenance": []
    }
  },
  "nbformat": 4,
  "nbformat_minor": 0
}
{
  "cells": [
    {
      "cell_type": "markdown",
      "source": [
        "<center>\n",
        "<h1>Scientific Programming with Python</h1>\n",
        "<h2>Liam Hess</h2>\n",
        "<h2>Bonn-Rhein-Sieg University of Applied Sciences</h2>\n",
        "<h3>Bonn, Germany</h3>\n",
        "<h2>Assignment 2</h2>\n",
        "</center>\n",
        "\n"
      ],
      "metadata": {
        "id": "1AtpTjtIE_UL"
      }
    },
    {
      "cell_type": "markdown",
      "metadata": {
        "id": "H31EgyqH5UjT"
      },
      "source": [
        "# The Nernst Equation\n",
        "\n",
        "Author: Liam Hess (lhess2s, 9043939)\n",
        "\n",
        "Date: April 28, 2023\n",
        "\n",
        "---\n",
        "\n",
        "Encoding of the Nernst equation[1] and to use it to compute an ion’s equilibrium potential."
      ]
    },
    {
      "cell_type": "markdown",
      "metadata": {
        "id": "sr1U2ahw5Uje"
      },
      "source": [
        "Imports for the task:\n",
        " - Math"
      ]
    },
    {
      "cell_type": "code",
      "execution_count": 10,
      "metadata": {
        "id": "FYMNCn1s5Ujf"
      },
      "outputs": [],
      "source": [
        "\"\"\" \n",
        "imports for the task\n",
        "\n",
        "\"\"\"\n",
        "import math\n",
        "from scipy import constants"
      ]
    },
    {
      "cell_type": "markdown",
      "metadata": {
        "id": "qPfIzcww5Ujg"
      },
      "source": [
        "## Nernst equation\n",
        "By knowing ion concentration inside and outside a cell, an ion’s equilibrium potential\n",
        "can be computed using the Nernst equation [2]:\n",
        "\n",
        "$$ E_{eq} = \\frac{R * T}{Z * F} * \\ln(\\frac{C_{o}}{C_{i}})\\\\ $$"
      ]
    },
    {
      "cell_type": "markdown",
      "metadata": {
        "id": "I0xrBgpy5Ujh"
      },
      "source": [
        "- $ E_{eq} $ =  Membrane Potential / Equilibrium Potential\n",
        "- $ R $ = Gas constant [3] = 8.3144626 $\\frac {J}{K * mol} $\n",
        "- $ T $ = Temperature in K (Kelvin)\n",
        "- $ Z $ = Ion charge (e.g $Na^{+} = +1 $;$ Cl^{-} = -1$)\n",
        "- $ F $ = Faraday's constant [4] = 96485.332  $\\frac {J}{volt * mol}$\n",
        "- $ C_{o} $ = Ion concentration outside the cells\n",
        "- $ C_{i} $ = Ion concentration inside the cells"
      ]
    },
    {
      "cell_type": "code",
      "execution_count": 21,
      "metadata": {
        "id": "fsgGEHDl5Ujh"
      },
      "outputs": [],
      "source": [
        "def nernst(ci: float, co: float, t: float, z: float) -> float:\n",
        "\n",
        "    \"\"\"\n",
        "    This function calculates and returns an ion's equilibrium potential using the Nernst equation.\n",
        "\n",
        "    Args:   \n",
        "        ci      - Ion concentration inside the cell\n",
        "        co      - Ion concentration ouside the cell\n",
        "        t       - Temperature in Kelvin\n",
        "        z       - Ion charge\n",
        "\n",
        "    Returns: \n",
        "       e       - The calculated equilibriums potential in volt.\n",
        "    \"\"\"\n",
        "\n",
        "    GAS_CONSTANT = constants.gas_constant   # Gas constant = 8.314426 (J / K*mol) [3][4]\n",
        "    FARADY_CONSTANT = constants.physical_constants['Faraday constant'][0] # Faraday's constant = 96485.332 (J / volt*mol) [3][5]\n",
        "\n",
        "    e = ((GAS_CONSTANT * t) / (z * FARADY_CONSTANT)) * math.log((co / ci))\n",
        "\n",
        "    return e"
      ]
    },
    {
      "cell_type": "code",
      "source": [
        "def convert_V_to_mV(input: float) -> float:\n",
        "\n",
        "    \"\"\"\n",
        "    This function converts a value given in Volt to Milli Volt\n",
        "\n",
        "    Args:\n",
        "        input  - The value which should be converted in Volt\n",
        "\n",
        "    Return:\n",
        "        output - The converted value in Milli Volt\n",
        "    \"\"\"\n",
        "\n",
        "    output = input * 1000 # multiply by factor 1000 (1 V = 1000 mV)\n",
        "    return output"
      ],
      "metadata": {
        "id": "UoSiKG4sJ8rU"
      },
      "execution_count": 12,
      "outputs": []
    },
    {
      "cell_type": "markdown",
      "metadata": {
        "id": "IbpBGYNx5Uji"
      },
      "source": [
        "## Task\n",
        "\n",
        "### Task\n",
        "Compute the equilibrium potential – reported in units of mV – for the four most common ions in the human body (i.e.,\n",
        "the physiological temperature is 310.15 K) using the following data:\n",
        "\n",
        "### Data\n",
        "| Ion       | Concentration outside the cell (mM) | Concentration inside the cell (mM) | Temperature (K) | Ion charge\n",
        "|-----------|-------------------------------------|------------------------------------|-----------------|----|\n",
        "| $ K^{+} $ | 5.00 | 145.0 | 310.15 | 1. |\n",
        "| $ Cl^{-} $ | 150. | 10.0 | 20. | -1. |\n",
        "| $ Na^{+} $ | 145. | 15.0 | 25. | 1. |\n",
        "| $ Ca^{2+} $ | 2.00 | 1.00E-4 | 31.| 2. |\n",
        "\n",
        "Ion charge (e.g., Na+ = +1; Cl− = −1) for $ Ca^{2+} $ the Ion charge is 2. [6]\n",
        "\n"
      ]
    },
    {
      "cell_type": "code",
      "execution_count": 25,
      "metadata": {
        "id": "CN6EFGuG5Uji",
        "outputId": "a927a55f-4695-440a-e16d-490f3687edbb",
        "colab": {
          "base_uri": "https://localhost:8080/"
        }
      },
      "outputs": [
        {
          "output_type": "stream",
          "name": "stdout",
          "text": [
            "The Equilibrium potential of K+ is 90.0 Volt.\n",
            "The Equilibrium potential of Cl- is 4.7 Volt.\n",
            "The Equilibrium potential of Na+ is -4.8999999999999995 Volt.\n",
            "The Equilibrium potential of Ca2+ is -13.0 Volt.\n"
          ]
        }
      ],
      "source": [
        "Eq_K = nernst(5.00, 145.0, 310.15, 1.)  # put in values from K+ an\n",
        "Eq_Cl = nernst(150., 10.0, 20., -1.)    # put in values from Cl-\n",
        "Eq_Na = nernst(145., 15.0, 25., 1.)     # put in values from Na+\n",
        "Eq_Ca = nernst(2.00, 0.000100, 31., 2.) # put in values from Ca2+  \n",
        "\n",
        "# convert results to significant figures\n",
        "\n",
        "Eq_K = round(Eq_K, 4)\n",
        "Eq_Cl = round(Eq_Cl, 4)\n",
        "Eq_Na = round(Eq_Na, 4)\n",
        "Eq_Ca = round(Eq_Ca, 3)\n",
        "\n",
        "# convert values from Volt to Milli Volt\n",
        "\n",
        "eq_K = convert_V_to_mV(Eq_K)\n",
        "eq_Cl = convert_V_to_mV(Eq_Cl)\n",
        "eq_Na = convert_V_to_mV(Eq_Na)\n",
        "eq_Ca = convert_V_to_mV(Eq_Ca)\n",
        "\n",
        "# print values\n",
        "\n",
        "print(f'The Equilibrium potential of K+ is {eq_K} Volt.')\n",
        "print(f'The Equilibrium potential of Cl- is {eq_Cl} Volt.')\n",
        "print(f'The Equilibrium potential of Na+ is {eq_Na} Volt.')\n",
        "print(f'The Equilibrium potential of Ca2+ is {eq_Ca} Volt.')\n",
        "\n"
      ]
    },
    {
      "cell_type": "markdown",
      "metadata": {
        "id": "COR2efWF5Ujk"
      },
      "source": [
        "## References: \n",
        "\n",
        "[1] Archer, M. D. (1989). Genesis of the Nernst Equation. Chapter 8 in Electrochemistry, Past and Present, ACS Symposium\n",
        "Series, 390, 115-126. https://pubs.acs.org/doi/abs/10.1021/bk-1989-0390.ch008\n",
        "\n",
        "[2] Wright, S. H. (2004). Generation of resting membrane potential. Advances in Physiology Education, 28(1-4), 139–142.\n",
        "https://doi.org/10.1152/advan.00029.2004\n",
        "\n",
        "[3] The SciPy community's contributors, SciPy Constants https://docs.scipy.org/doc/scipy/reference/constants.html. Online; accessed on April 28, 2023\n",
        "\n",
        "[4] Wikipedia's contributors, Gas constant https://en.wikipedia.org/wiki/Gas_constant. Online; accessed on April 28, 2023.\n",
        "\n",
        "[5] Wikipedia's contributors, Faraday Constant https://en.wikipedia.org/wiki/Faraday_constant. Online; accessed on April 28, 2023.\n",
        "\n",
        "[6] Smith, C. (2021). Calcium Ion Charge https://study.com/learn/lesson/calcium-ion-charge-formula-name.html. Online; accessed on April 28, 2023.\n"
      ]
    }
  ],
  "metadata": {
    "kernelspec": {
      "display_name": "Python 3",
      "language": "python",
      "name": "python3"
    },
    "language_info": {
      "codemirror_mode": {
        "name": "ipython",
        "version": 3
      },
      "file_extension": ".py",
      "mimetype": "text/x-python",
      "name": "python",
      "nbconvert_exporter": "python",
      "pygments_lexer": "ipython3",
      "version": "3.11.2"
    },
    "orig_nbformat": 4,
    "colab": {
      "provenance": []
    }
  },
  "nbformat": 4,
  "nbformat_minor": 0
}
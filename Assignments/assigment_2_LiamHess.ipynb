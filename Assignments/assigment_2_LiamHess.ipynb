{
  "cells": [
    {
      "cell_type": "markdown",
      "source": [
        "<center>\n",
        "<h1>Scientific Programming with Python</h1>\n",
        "<h2>Liam Hess</h2>\n",
        "<h2>Bonn-Rhein-Sieg University of Applied Sciences</h2>\n",
        "<h3>Bonn, Germany</h3>\n",
        "<h2>Assignment 2</h2>\n",
        "</center>\n",
        "\n"
      ],
      "metadata": {
        "id": "1AtpTjtIE_UL"
      }
    },
    {
      "cell_type": "markdown",
      "metadata": {
        "id": "H31EgyqH5UjT"
      },
      "source": [
        "# The Nernst Equation\n",
        "\n",
        "Author: Liam Hess (lhess2s, 9043939)\n",
        "\n",
        "Date: April 28, 2023\n",
        "\n",
        "---\n",
        "\n",
        "Encoding of the Nernst equation[1] and to use it to compute an ion’s equilibrium potential."
      ]
    },
    {
      "cell_type": "markdown",
      "metadata": {
        "id": "sr1U2ahw5Uje"
      },
      "source": [
        "Imports for the task:\n",
        " - Math"
      ]
    },
    {
      "cell_type": "code",
      "execution_count": 2,
      "metadata": {
        "id": "FYMNCn1s5Ujf"
      },
      "outputs": [],
      "source": [
        "\"\"\" \n",
        "imports for the task\n",
        "\n",
        "\"\"\"\n",
        "import decimal as Decimal\n",
        "import math\n",
        "from scipy import constants\n",
        "from typing import List"
      ]
    },
    {
      "cell_type": "code",
      "source": [
        "def get_lowest_sigfigs(values: List[float]) -> int:\n",
        "\n",
        "    \"\"\"\n",
        "    Returns the lowest count of Significant figures from a list of floats.\n",
        "\n",
        "    Args:\n",
        "      input   - The list of floats\n",
        "\n",
        "    Returns:\n",
        "      lowest  - The lowest amount of Significant figures\n",
        "    \"\"\"\n",
        "\n",
        "    if not isinstance(values, List[float]):\n",
        "      return TypeError(\"Input is not a list of floats\")\n",
        "\n",
        "    # Save the significant fugures of the first value as first lowest\n",
        "    lowest = len(Decimal(values[0]).normalize().as_tuple().digits) # Count the amount of Significant Figures [2]\n",
        "    for selected_item in input:\n",
        "        sig_figs_of_select = len(Decimal(selected_item).normalize().as_tuple().digits)\n",
        "        if sig_figs_of_select < lowest:\n",
        "            lowest = sig_figs_of_select # Save the counted sig figs as new lowest\n",
        "\n",
        "    return lowest"
      ],
      "metadata": {
        "id": "bC4qsxtMK6Z3"
      },
      "execution_count": 3,
      "outputs": []
    },
    {
      "cell_type": "markdown",
      "metadata": {
        "id": "qPfIzcww5Ujg"
      },
      "source": [
        "## Nernst equation\n",
        "By knowing ion concentration inside and outside a cell, an ion’s equilibrium potential\n",
        "can be computed using the Nernst equation [2]:\n",
        "\n",
        "$$ E_{eq} = \\frac{R * T}{Z * F} * \\ln(\\frac{C_{o}}{C_{i}})\\\\ $$"
      ]
    },
    {
      "cell_type": "markdown",
      "metadata": {
        "id": "I0xrBgpy5Ujh"
      },
      "source": [
        "- $ E_{eq} $ =  Membrane Potential / Equilibrium Potential\n",
        "- $ R $ = Gas constant [3] = 8.3144626 $\\frac {J}{K * mol} $\n",
        "- $ T $ = Temperature in K (Kelvin)\n",
        "- $ Z $ = Ion charge (e.g $Na^{+} = +1 $;$ Cl^{-} = -1$)\n",
        "- $ F $ = Faraday's constant [4] = 96485.332  $\\frac {J}{volt * mol}$\n",
        "- $ C_{o} $ = Ion concentration outside the cells\n",
        "- $ C_{i} $ = Ion concentration inside the cells"
      ]
    },
    {
      "cell_type": "code",
      "execution_count": 4,
      "metadata": {
        "id": "fsgGEHDl5Ujh"
      },
      "outputs": [],
      "source": [
        "def nernst(ci: float, co: float, t: float, z: float) -> float:\n",
        "\n",
        "    \"\"\"\n",
        "    This function calculates and returns an ion's equilibrium potential using the Nernst equation.\n",
        "\n",
        "    Args:   \n",
        "        ci      - Ion concentration inside the cell\n",
        "        co      - Ion concentration ouside the cell\n",
        "        t       - Temperature in Kelvin\n",
        "        z       - Ion charge\n",
        "\n",
        "    Returns: \n",
        "       equilibrium       - The calculated equilibriums potential in volt.\n",
        "    \"\"\"\n",
        "\n",
        "    # Type checking\n",
        "\n",
        "    if not isinstance(ci, float):\n",
        "      return TypeError(\"Ion concentration (inside cell) is not type float\")\n",
        "\n",
        "    if not isinstance(co, float):\n",
        "      return TypeError(\"Ion concentration (outside cell) is not type float\")\n",
        "\n",
        "    if not isinstance(t, float):\n",
        "      return TypeError(\"Temperature is not type float\")\n",
        "\n",
        "    if not isinstance(z, (float, int)):\n",
        "      return TypeError(\"Ion charge is not type float or int\")\n",
        "\n",
        "    GAS_CONSTANT = constants.gas_constant   # Gas constant = 8.314426 (J / K*mol) [3][4]\n",
        "    FARADY_CONSTANT = constants.physical_constants['Faraday constant'][0] # Faraday's constant = 96485.332 (J / volt*mol) [3][5]\n",
        "\n",
        "    equilibrium = ((GAS_CONSTANT * t) / (z * FARADY_CONSTANT)) * math.log((co / ci))\n",
        "\n",
        "    return equilibrium"
      ]
    },
    {
      "cell_type": "code",
      "source": [
        "def convert_V_to_mV(value: float) -> float:\n",
        "\n",
        "    \"\"\"\n",
        "    This function converts a value given in Volt to Milli Volt\n",
        "\n",
        "    Args:\n",
        "        value  - The value which should be converted in Volt\n",
        "\n",
        "    Return:\n",
        "        output - The converted value in Milli Volt\n",
        "    \"\"\"\n",
        "\n",
        "    if not isinstance(value, float):\n",
        "      return TypeError(\"Input is not type float.\")\n",
        "\n",
        "    output = value * 1000. # multiply by factor 1000 (1 V = 1000 mV)\n",
        "    return output"
      ],
      "metadata": {
        "id": "UoSiKG4sJ8rU"
      },
      "execution_count": 14,
      "outputs": []
    },
    {
      "cell_type": "markdown",
      "metadata": {
        "id": "IbpBGYNx5Uji"
      },
      "source": [
        "## Task\n",
        "\n",
        "### Task\n",
        "Compute the equilibrium potential – reported in units of mV – for the four most common ions in the human body (i.e.,\n",
        "the physiological temperature is 310.15 K) using the following data:\n",
        "\n",
        "### Data\n",
        "| Ion       | Concentration outside the cell (mM) | Concentration inside the cell (mM) | Temperature (C) |\n",
        "|-----------|-------------------------------------|------------------------------------|-----------------|\n",
        "| $ K^{+} $ | 5.00 | 145.0 | 35. |\n",
        "| $ Cl^{-} $ | 150. | 10.0 | 20. |\n",
        "| $ Na^{+} $ | 145. | 15.0 | 25. |\n",
        "| $ Ca^{2+} $ | 2.00 | 1.00E-4 | 31.|\n",
        "\n",
        "Temperature C to Kelvin $ K = C + 273.15 $ [5] </br>\n",
        "Ion charge (e.g., Na+ = +1; Cl− = −1) for $ Ca^{2+} $ the Ion charge is 2. [6]\n",
        "\n"
      ]
    },
    {
      "cell_type": "markdown",
      "source": [
        "<h3> Equlibrium potential of $ K^{+} $ </h3>\n",
        "$$ Co = 5.00 mM $$\n",
        "$$ Ci = 145.0 mM $$\n",
        "$$ T  = 308.15 K $$\n",
        "$$ Z  = 1. $$"
      ],
      "metadata": {
        "id": "BspniBNOdhzw"
      }
    },
    {
      "cell_type": "code",
      "execution_count": 23,
      "metadata": {
        "id": "CN6EFGuG5Uji",
        "outputId": "0e92e0d1-3dcb-4767-c29f-ff718e9c1aeb",
        "colab": {
          "base_uri": "https://localhost:8080/"
        }
      },
      "outputs": [
        {
          "output_type": "stream",
          "name": "stdout",
          "text": [
            "The Equilibrium potential of K+ is 90.0 Milli Volt.\n"
          ]
        }
      ],
      "source": [
        "Eq_K = nernst(co=5.00, ci=145.00, t=308.15, z=1.)  # put in values from K+ in function\n",
        "\n",
        "eq_K = convert_V_to_mV(value=Eq_K) # convert values from Volt to Milli Volt\n",
        "\n",
        "print(f'The Equilibrium potential of K+ is {eq_K:0.3} Milli Volt.')"
      ]
    },
    {
      "cell_type": "markdown",
      "source": [
        "<h3> Equlibrium potential of $ Cl^{-} $ </h3>\n",
        "$$ Co = 150. mM $$\n",
        "$$ Ci = 10.0 mM $$\n",
        "$$ T  = 293.15 K $$\n",
        "$$ Z  = -1. $$"
      ],
      "metadata": {
        "id": "hp-re_0ueKqy"
      }
    },
    {
      "cell_type": "code",
      "source": [
        "Eq_Cl = nernst(co=150., ci=10.0, t=293.15, z=-1.)  # put in values from Cl-\n",
        "\n",
        "eq_Cl = convert_V_to_mV(Eq_Cl)   # convert values from Volt to Milli Volt\n",
        "\n",
        "print(f'The Equilibrium potential of Cl- is {eq_Cl:0.3} Milli Volt.')"
      ],
      "metadata": {
        "id": "6EDlE784bGnq",
        "outputId": "703a07d0-f4ba-45ea-b15c-4b0d3769a18c",
        "colab": {
          "base_uri": "https://localhost:8080/"
        }
      },
      "execution_count": 19,
      "outputs": [
        {
          "output_type": "stream",
          "name": "stdout",
          "text": [
            "The Equilibrium potential of Cl- is 4.7 Milli Volt.\n"
          ]
        }
      ]
    },
    {
      "cell_type": "markdown",
      "source": [
        "<h3> Equlibrium potential of $ Na^{+} $ </h3>\n",
        "$$ Co = 145. mM$$\n",
        "$$ Ci = 15.0 mM $$\n",
        "$$ T  = 298.15 K $$\n",
        "$$ Z  = 1. $$"
      ],
      "metadata": {
        "id": "xFMDUYZseLpz"
      }
    },
    {
      "cell_type": "code",
      "source": [
        "Eq_Na = nernst(co=145., ci=15.0, t=298.15, z=1.)     # put in values from Na+\n",
        "\n",
        "eq_Na = convert_V_to_mV(Eq_Na)   # convert values from Volt to Milli Volt\n",
        "\n",
        "print(f'The Equilibrium potential of Na+ is {eq_Na:0.3} Milli Volt.')"
      ],
      "metadata": {
        "id": "8ORdKrtPbGva",
        "outputId": "ea9e53fc-49df-4b6f-fcaf-739e14b7515a",
        "colab": {
          "base_uri": "https://localhost:8080/"
        }
      },
      "execution_count": 17,
      "outputs": [
        {
          "output_type": "stream",
          "name": "stdout",
          "text": [
            "The Equilibrium potential of Na+ is -4.9 Milli Volt.\n"
          ]
        }
      ]
    },
    {
      "cell_type": "markdown",
      "source": [
        "<h3> Equlibrium potential of $ Ca^{2+} $ </h3>\n",
        "$$ Co = 2.00 mM $$\n",
        "$$ Ci = 1.00E-4 mM $$\n",
        "$$ T  = 304.15 K $$\n",
        "$$ Z  = 2. $$"
      ],
      "metadata": {
        "id": "LJb1y4rueMui"
      }
    },
    {
      "cell_type": "code",
      "source": [
        "Eq_Ca = nernst(co=2.00, ci=0.000100, t=304.15, z=2.) # put in values from Ca2+ \n",
        "\n",
        "eq_Ca = convert_V_to_mV(Eq_Ca)   # convert values from Volt to Milli Volt\n",
        "\n",
        "print(f'The Equilibrium potential of Ca2+ is {eq_Ca:0.2} Milli Volt.')"
      ],
      "metadata": {
        "id": "lUeRbKxrbG2w",
        "outputId": "36e482ac-9d92-4470-d830-e3bb0eec478d",
        "colab": {
          "base_uri": "https://localhost:8080/"
        }
      },
      "execution_count": 22,
      "outputs": [
        {
          "output_type": "stream",
          "name": "stdout",
          "text": [
            "The Equilibrium potential of Ca2+ is -1.3e+01 Milli Volt.\n"
          ]
        }
      ]
    },
    {
      "cell_type": "markdown",
      "metadata": {
        "id": "COR2efWF5Ujk"
      },
      "source": [
        "## References: \n",
        "\n",
        "[1] Archer, M. D. (1989). Genesis of the Nernst Equation. Chapter 8 in Electrochemistry, Past and Present, ACS Symposium\n",
        "Series, 390, 115-126. https://pubs.acs.org/doi/abs/10.1021/bk-1989-0390.ch008\n",
        "\n",
        "[2] StackOverflow's contributers. Counting significant figures in python. https://stackoverflow.com/questions/8101353/counting-significant-figures-in-python. Online; accessed on April 28, 2023.\n",
        "\n",
        "[2] Wright, S. H. (2004). Generation of resting membrane potential. Advances in Physiology Education, 28(1-4), 139–142.\n",
        "https://doi.org/10.1152/advan.00029.2004\n",
        "\n",
        "[3] The SciPy community's contributors, SciPy Constants https://docs.scipy.org/doc/scipy/reference/constants.html. Online; accessed on April 28, 2023\n",
        "\n",
        "[4] Wikipedia's contributors, Gas constant https://en.wikipedia.org/wiki/Gas_constant. Online; accessed on April 28, 2023.\n",
        "\n",
        "[5] Wikipedia's contributors, Faraday Constant https://en.wikipedia.org/wiki/Faraday_constant. Online; accessed on April 28, 2023.\n",
        "\n",
        "[5] Wikipedia's contributors, Kelvin https://en.wikipedia.org/wiki/Kelvin. Online; accessed April 28, 2023.\n",
        "\n",
        "[6] Smith, C. (2021). Calcium Ion Charge https://study.com/learn/lesson/calcium-ion-charge-formula-name.html. Online; accessed on April 28, 2023.\n"
      ]
    }
  ],
  "metadata": {
    "kernelspec": {
      "display_name": "Python 3",
      "language": "python",
      "name": "python3"
    },
    "language_info": {
      "codemirror_mode": {
        "name": "ipython",
        "version": 3
      },
      "file_extension": ".py",
      "mimetype": "text/x-python",
      "name": "python",
      "nbconvert_exporter": "python",
      "pygments_lexer": "ipython3",
      "version": "3.11.2"
    },
    "orig_nbformat": 4,
    "colab": {
      "provenance": []
    }
  },
  "nbformat": 4,
  "nbformat_minor": 0
}
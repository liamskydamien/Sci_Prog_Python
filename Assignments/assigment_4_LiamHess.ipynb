{
  "cells": [
    {
      "cell_type": "markdown",
      "source": [
        "<center>\n",
        "<h1>Scientific Programming with Python</h1>\n",
        "<h2>Liam Sky Damien Hess</h2>\n",
        "<h2>Bonn-Rhein-Sieg University of Applied Sciences</h2>\n",
        "<h3>Bonn, Germany</h3>\n",
        "<h2>Assignment 4</h2>\n",
        "</center>\n",
        "\n"
      ],
      "metadata": {
        "id": "1AtpTjtIE_UL"
      }
    }
  ],
  "metadata": {
    "kernelspec": {
      "display_name": "Python 3",
      "language": "python",
      "name": "python3"
    },
    "language_info": {
      "codemirror_mode": {
        "name": "ipython",
        "version": 3
      },
      "file_extension": ".py",
      "mimetype": "text/x-python",
      "name": "python",
      "nbconvert_exporter": "python",
      "pygments_lexer": "ipython3",
      "version": "3.11.2"
    },
    "orig_nbformat": 4,
    "colab": {
      "provenance": [],
      "toc_visible": true
    }
  },
  "nbformat": 4,
  "nbformat_minor": 0
}
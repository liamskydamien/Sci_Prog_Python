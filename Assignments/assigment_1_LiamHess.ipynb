{
  "cells": [
    {
      "cell_type": "markdown",
      "metadata": {
        "id": "H31EgyqH5UjT"
      },
      "source": [
        "# Assignment 1: The Nernst Equation\n",
        "\n",
        "Author: Liam Hess (lhess2s, 9043939)\n",
        "\n",
        "Date: March 27, 2023\n",
        "\n",
        "---\n",
        "\n",
        "Encoding of the Nernst equation[1] and to use it to compute an ion’s equilibrium potential."
      ]
    },
    {
      "cell_type": "markdown",
      "metadata": {
        "id": "sr1U2ahw5Uje"
      },
      "source": [
        "Imports for the task:\n",
        " - Math"
      ]
    },
    {
      "cell_type": "code",
      "execution_count": 1,
      "metadata": {
        "id": "FYMNCn1s5Ujf"
      },
      "outputs": [],
      "source": [
        "#imports for the task\n",
        "import math"
      ]
    },
    {
      "cell_type": "markdown",
      "metadata": {
        "id": "qPfIzcww5Ujg"
      },
      "source": [
        "## Nernst equation\n",
        "By knowing ion concentration inside and outside a cell, an ion’s equilibrium potential\n",
        "can be computed using the Nernst equation [2]:\n",
        "\n",
        "$$ E_{eq} = \\frac{R * T}{Z * F} * \\ln(\\frac{C_{o}}{C_{i}})\\\\ $$"
      ]
    },
    {
      "cell_type": "markdown",
      "metadata": {
        "id": "I0xrBgpy5Ujh"
      },
      "source": [
        "- $ E_{m} $ =  Membrane Potential\n",
        "- $ R $ = Gas constant [3] = 8.3144626 $\\frac {J}{K * mol} $\n",
        "- $ T $ = Temperature in K (Kelvin)\n",
        "- $ Z $ = Ion charge (e.g $Na^{+} = +1 $;$ Cl^{-} = -1$)\n",
        "- $ F $ = Faraday's constant [4] = 96485.332  $\\frac {J}{volt * mol}$\n",
        "- $ C_{o} $ = Ion concentration outside the cells\n",
        "- $ C_{i} $ = Ion concentration inside the cells"
      ]
    },
    {
      "cell_type": "code",
      "execution_count": 4,
      "metadata": {
        "id": "fsgGEHDl5Ujh"
      },
      "outputs": [],
      "source": [
        "# The Nernst equation\n",
        "# Ci -> Ion concentration inside the cell\n",
        "# Co -> Ion concentration outside the cell\n",
        "# T -> Temperature in Kelvin (K)\n",
        "# Z -> Ion charge (+1 or -1)\n",
        "def nernst(ci: float, co: float, t: float, z: float, r = 8.3144626, f = 96485.332) -> float:\n",
        "\n",
        "    \"\"\"\n",
        "    This function calculates an ion's equilibrium potential using the Nernst equation.\n",
        "\n",
        "    Parameters:\n",
        "    ci      -- Ion concentration inside the cell\n",
        "    co      -- Ion concentration ouside the cell\n",
        "    t       -- Temperature in Kelvin\n",
        "    z       -- Ion charge\n",
        "    r       -- Gas constant = 8.314426 (J / K*mol) [2]\n",
        "    f       -- Faraday's constant = 96485.332 (J / volt*mol) [3]\n",
        "\n",
        "    Returns:\n",
        "    e       -- Equilibriums potential in Volt\n",
        "    \"\"\"\n",
        "\n",
        "    # Using the log-function from math\n",
        "    e = ((r * t) / (z * f)) * math.log((co / ci))\n",
        "\n",
        "    return e"
      ]
    },
    {
      "cell_type": "markdown",
      "metadata": {
        "id": "IbpBGYNx5Uji"
      },
      "source": [
        "## Task\n",
        "\n",
        "### Task\n",
        "Compute the equilibrium potential – reported in units of mV – for the potassium ion in the human body (i.e., the\n",
        "physiological temperature is 310.15 K) using the following data.\n",
        "\n",
        "### Data\n",
        "| Ion       | Concentration outside the cell (mM) | Concentration inside the cell (mM) | Temperature (K) |\n",
        "|-----------|-------------------------------------|------------------------------------|-----------------|\n",
        "| $ K^{+} $ | 5.0                                 | 145.0                              | 310.15          |\n"
      ]
    },
    {
      "cell_type": "code",
      "execution_count": 5,
      "metadata": {
        "id": "CN6EFGuG5Uji",
        "outputId": "f4ebe378-8997-4667-826e-82e7e39e024d",
        "colab": {
          "base_uri": "https://localhost:8080/"
        }
      },
      "outputs": [
        {
          "output_type": "stream",
          "name": "stdout",
          "text": [
            "The Membrane Potential is -89.99656769766173 mV.\n"
          ]
        }
      ],
      "source": [
        "# Ion Potassion K+ -> +1\n",
        "z_value = 1\n",
        "\n",
        "# Concentration outside the cells 5.0 mM\n",
        "co_value = 5.0\n",
        "\n",
        "# Concentration inside the cells 145.0 mM\n",
        "ci_value = 145.0\n",
        "\n",
        "# Temperature 310.15 K\n",
        "t_value = 310.15\n",
        "\n",
        "# Run the Nernst equation with the provided values.\n",
        "eq_result = nernst(ci_value,co_value,t_value,z_value)\n",
        "\n",
        "# Transform eq from V to mV -> 1 V = 1000mV\n",
        "Eq = eq_result * 1000\n",
        "\n",
        "print(f'The Membrane Potential is {Eq} mV.')\n",
        "\n"
      ]
    },
    {
      "cell_type": "markdown",
      "metadata": {
        "id": "COR2efWF5Ujk"
      },
      "source": [
        "## References: \n",
        "\n",
        "[1] Archer, M. D. (1989). Genesis of the Nernst Equation. Chapter 8 in Electrochemistry, Past and Present, ACS Symposium\n",
        "Series, 390, 115-126. https://pubs.acs.org/doi/abs/10.1021/bk-1989-0390.ch008\n",
        "\n",
        "[2] Wright, S. H. (2004). Generation of resting membrane potential. Advances in Physiology Education, 28(1-4), 139–142.\n",
        "https://doi.org/10.1152/advan.00029.2004\n",
        "\n",
        "[3] Wikipedia's contributors, Gas constant https://en.wikipedia.org/wiki/Gas_constant. Online; accessed on October 14, 2022.\n",
        "\n",
        "[4] Wikipedia's contributors, Faraday Constant https://en.wikipedia.org/wiki/Faraday_constant. Online; accessed on August 13, 2022."
      ]
    },
    {
      "cell_type": "code",
      "execution_count": null,
      "outputs": [],
      "source": [],
      "metadata": {
        "id": "HWgIJ0d_5Ujk"
      }
    }
  ],
  "metadata": {
    "kernelspec": {
      "display_name": "Python 3",
      "language": "python",
      "name": "python3"
    },
    "language_info": {
      "codemirror_mode": {
        "name": "ipython",
        "version": 3
      },
      "file_extension": ".py",
      "mimetype": "text/x-python",
      "name": "python",
      "nbconvert_exporter": "python",
      "pygments_lexer": "ipython3",
      "version": "3.11.2"
    },
    "orig_nbformat": 4,
    "colab": {
      "provenance": []
    }
  },
  "nbformat": 4,
  "nbformat_minor": 0
}
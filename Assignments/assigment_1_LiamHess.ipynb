{
 "cells": [
  {
   "attachments": {},
   "cell_type": "markdown",
   "metadata": {},
   "source": [
    "# Assignment 1: The Nernst Equation\n",
    "\n",
    "Author: Liam Hess (lhess2s, 9043939)\n",
    "\n",
    "Date: March 27, 2023\n",
    "\n",
    "---\n",
    "\n",
    "Encoding of the Nerst equation[1] and to use it to compute an ion’s equilibrium potential."
   ]
  },
  {
   "attachments": {},
   "cell_type": "markdown",
   "metadata": {},
   "source": [
    "Imports for the task:\n",
    " - Math"
   ]
  },
  {
   "cell_type": "code",
   "execution_count": 1,
   "metadata": {},
   "outputs": [],
   "source": [
    "#imports for the task\n",
    "import math"
   ]
  },
  {
   "attachments": {},
   "cell_type": "markdown",
   "metadata": {},
   "source": [
    "## Nerst equation\n",
    "By knowing ion concentration inside and outside of a cell, an ion’s equilibrium potential\n",
    "can be computed using the Nernst equation [2]:\n",
    "\n",
    "$$ E_{eq} = \\frac{R * T}{Z * F} * \\ln(\\frac{C_{i}}{C_  {o}})\\\\ $$"
   ]
  },
  {
   "attachments": {},
   "cell_type": "markdown",
   "metadata": {},
   "source": [
    "-  $E_{m}$ =  Membrane Potential\n",
    "-  R = Gas constant [3] = 8.3144626 $\\frac {J}{K * mol} $\n",
    "-  T = Temperature in K (Kelvin)\n",
    "-  Z = Ion charge (e.g $Na^{+} = +1 $;$ Cl^{-} = -1$) \n",
    "-  F = Faradaysconstant [4] = 96485.332  $\\frac {J}{volt * mol}$\n",
    "- $ C_{o} $ = Ion concentration outside the cells\n",
    "- $ C_{i} $ = Ion concentration inside the cells"
   ]
  },
  {
   "cell_type": "code",
   "execution_count": 2,
   "metadata": {},
   "outputs": [],
   "source": [
    "# The Nerst equation\n",
    "# Ci -> Ion concentration inside the cell\n",
    "# Co -> Ion concentration outside the cell\n",
    "# T -> Temperature in Kelvin (K)\n",
    "# Z -> Ion charge (+1 or -1)\n",
    "def nerst(Ci: float, Co: float, T: float, Z: float) -> float:\n",
    "    # Defining constants R and F\n",
    "    # R -> Gas constant = 8.314426 (J / K*mol) [2]\n",
    "    R = 8.3144626\n",
    "    # F -> Faraday's constant = 96485.332 (J / volt*mol) [3]\n",
    "    F = 96485.332\n",
    "\n",
    "    # Nerst equation as V -> Volt\n",
    "    # Using the log-function from math\n",
    "    E = ((R * T) / (Z * F)) * math.log((Ci / Co))\n",
    "\n",
    "    return E"
   ]
  },
  {
   "attachments": {},
   "cell_type": "markdown",
   "metadata": {},
   "source": [
    "## Task\n",
    "\n",
    "### Task\n",
    "Compute the equilibrium potential – reported in units of mV – for the potassium ion in the human body (i.e., the\n",
    "physiological temperature is 310.15 K) using the following data.\n",
    "\n",
    "### Data\n",
    "|Ion |Concentration outside the cell (mM) |Concentration inside the cell (mM) |Temperature (K) |\n",
    "|---|------------------------------|-----------------------------|---------------|\n",
    "|$$ K^{+} $$ | 5.0 | 145.0 | 310.15|\n"
   ]
  },
  {
   "cell_type": "code",
   "execution_count": 3,
   "metadata": {},
   "outputs": [
    {
     "name": "stdout",
     "output_type": "stream",
     "text": [
      "The Membrane Potential is 89.99656769766173 mV.\n"
     ]
    }
   ],
   "source": [
    "# Ion Potassion K+\n",
    "z = 1\n",
    "\n",
    "# Concentration outside the cells 5.0 mM\n",
    "co = 5.0\n",
    "\n",
    "# Concentration inside the cells 145.0 mM\n",
    "ci = 145.0 \n",
    "\n",
    "# Temperature 310.15 K\n",
    "t = 310.15\n",
    "\n",
    "# Run the Nerst equation with the provided values.\n",
    "eq = nerst(ci,co,t,z)\n",
    "\n",
    "# Transform eq from V to mV.\n",
    "Eq = eq * 1000\n",
    "\n",
    "print(f'The Membrane Potential is {Eq} mV.')\n",
    "\n"
   ]
  },
  {
   "attachments": {},
   "cell_type": "markdown",
   "metadata": {},
   "source": [
    "## References: \n",
    "\n",
    "[1] Archer, M. D. (1989). Genesis of the Nernst Equation. Chapter 8 in Electrochemistry, Past and Present, ACS Symposium\n",
    "Series, 390, 115-126. https://pubs.acs.org/doi/abs/10.1021/bk-1989-0390.ch008\n",
    "\n",
    "[2] Wright, S. H. (2004). Generation of resting membrane potential. Advances in Physiology Education, 28(1-4), 139–142.\n",
    "https://doi.org/10.1152/advan.00029.2004\n",
    "\n",
    "[3] Wikipedia contributors, Gas constant https://en.wikipedia.org/wiki/Gas_constant. Online; accessed on October 14,\n",
    "2022.\n",
    "\n",
    "[4] Wikipedia contributors, Faraday Constant https://en.wikipedia.org/wiki/Faraday_constant. Online; accessed on August 13, 2022."
   ]
  },
  {
   "cell_type": "code",
   "execution_count": null,
   "outputs": [],
   "source": [],
   "metadata": {
    "collapsed": false
   }
  }
 ],
 "metadata": {
  "kernelspec": {
   "display_name": "Python 3",
   "language": "python",
   "name": "python3"
  },
  "language_info": {
   "codemirror_mode": {
    "name": "ipython",
    "version": 3
   },
   "file_extension": ".py",
   "mimetype": "text/x-python",
   "name": "python",
   "nbconvert_exporter": "python",
   "pygments_lexer": "ipython3",
   "version": "3.11.2"
  },
  "orig_nbformat": 4
 },
 "nbformat": 4,
 "nbformat_minor": 2
}
